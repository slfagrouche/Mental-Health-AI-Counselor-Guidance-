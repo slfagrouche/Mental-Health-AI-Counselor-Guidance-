{
  "nbformat": 4,
  "nbformat_minor": 0,
  "metadata": {
    "colab": {
      "provenance": []
    },
    "kernelspec": {
      "name": "python3",
      "display_name": "Python 3"
    },
    "language_info": {
      "name": "python"
    }
  },
  "cells": [
    {
      "cell_type": "code",
      "source": [
        "!pip install openai chromadb langchain langchain-openai langchain-community\n",
        "!pip install --upgrade chromadb\n",
        "!pip install openai chromadb langchain langchain-openai langchain-chroma fastapi uvicorn"
      ],
      "metadata": {
        "id": "OGVOkFanNoDR"
      },
      "execution_count": null,
      "outputs": []
    },
    {
      "cell_type": "code",
      "source": [
        "# Mental Health Counseling System – EDA & Model Development\n",
        "# Author: Said Lfagrouche\n",
        "# Date: 2025-04-24\n",
        "# Description: This notebook performs EDA, feature engineering, and high-accuracy\n",
        "# modeling on the NLP Mental Health Conversations dataset, using LightGBM, fixed sampling, VADER-based labeling, and robust crisis detection.\n",
        "\n",
        "import pandas as pd\n",
        "import numpy as np\n",
        "import matplotlib.pyplot as plt\n",
        "import seaborn as sns\n",
        "from nltk.corpus import stopwords\n",
        "from nltk.tokenize import word_tokenize\n",
        "from nltk.stem import WordNetLemmatizer\n",
        "from sklearn.feature_extraction.text import TfidfVectorizer\n",
        "from sklearn.decomposition import LatentDirichletAllocation\n",
        "from sklearn.model_selection import train_test_split, GridSearchCV, StratifiedKFold\n",
        "from sklearn.metrics import classification_report, confusion_matrix\n",
        "from sklearn.preprocessing import LabelEncoder\n",
        "from sklearn.feature_selection import SelectKBest, mutual_info_classif\n",
        "from lightgbm import LGBMClassifier\n",
        "from imblearn.over_sampling import SMOTE\n",
        "from imblearn.under_sampling import RandomUnderSampler\n",
        "from imblearn.pipeline import Pipeline\n",
        "import re\n",
        "import nltk\n",
        "from vaderSentiment.vaderSentiment import SentimentIntensityAnalyzer\n",
        "nltk.download('punkt')\n",
        "nltk.download('wordnet')\n",
        "nltk.download('stopwords')\n",
        "\n",
        "#  plot style\n",
        "sns.set_style(\"whitegrid\")\n",
        "plt.rcParams[\"figure.figsize\"] = (10, 6)\n",
        "\n",
        "\n"
      ],
      "metadata": {
        "colab": {
          "base_uri": "https://localhost:8080/"
        },
        "id": "BXmMWdWw5D3l",
        "outputId": "74c9f52f-4540-424e-cea6-95fdb9e9cd31"
      },
      "execution_count": null,
      "outputs": [
        {
          "output_type": "stream",
          "name": "stderr",
          "text": [
            "[nltk_data] Downloading package punkt to /root/nltk_data...\n",
            "[nltk_data]   Package punkt is already up-to-date!\n",
            "[nltk_data] Downloading package wordnet to /root/nltk_data...\n",
            "[nltk_data]   Package wordnet is already up-to-date!\n",
            "[nltk_data] Downloading package stopwords to /root/nltk_data...\n",
            "[nltk_data]   Package stopwords is already up-to-date!\n"
          ]
        }
      ]
    },
    {
      "cell_type": "code",
      "source": [
        "# Data Loading & Cleaning\n",
        "import kagglehub\n",
        "from kagglehub import KaggleDatasetAdapter\n",
        "\n",
        "\n",
        "file_path = \"train.csv\"\n",
        "df = kagglehub.load_dataset(\n",
        "  KaggleDatasetAdapter.PANDAS,\n",
        "  \"thedevastator/nlp-mental-health-conversations\",\n",
        "  file_path,\n",
        ")\n",
        "\n",
        "print(\"First 5 records:\", df.head())\n",
        "\n",
        "\n",
        "df = df.dropna(subset=['Response'])\n",
        "df = df.drop_duplicates()\n",
        "print(\"Cleaned Dataset Shape:\", df.shape)\n"
      ],
      "metadata": {
        "colab": {
          "base_uri": "https://localhost:8080/"
        },
        "id": "a0RKcdyMLuvT",
        "outputId": "f86cefa8-5733-4827-c0f9-cd2b2d7991aa"
      },
      "execution_count": null,
      "outputs": [
        {
          "output_type": "stream",
          "name": "stderr",
          "text": [
            "<ipython-input-15-be56be106aa7>:7: DeprecationWarning: load_dataset is deprecated and will be removed in future version.\n",
            "  df = kagglehub.load_dataset(\n"
          ]
        },
        {
          "output_type": "stream",
          "name": "stdout",
          "text": [
            "First 5 records:                                              Context  \\\n",
            "0  I'm going through some things with my feelings...   \n",
            "1  I'm going through some things with my feelings...   \n",
            "2  I'm going through some things with my feelings...   \n",
            "3  I'm going through some things with my feelings...   \n",
            "4  I'm going through some things with my feelings...   \n",
            "\n",
            "                                            Response  \n",
            "0  If everyone thinks you're worthless, then mayb...  \n",
            "1  Hello, and thank you for your question and see...  \n",
            "2  First thing I'd suggest is getting the sleep y...  \n",
            "3  Therapy is essential for those that are feelin...  \n",
            "4  I first want to let you know that you are not ...  \n",
            "Cleaned Dataset Shape: (2748, 2)\n"
          ]
        }
      ]
    },
    {
      "cell_type": "code",
      "source": [
        "# Text Pre-processing\n",
        "STOPWORDS = set(stopwords.words(\"english\"))\n",
        "lemmatizer = WordNetLemmatizer()\n",
        "\n",
        "def clean_text(text):\n",
        "    if pd.isna(text):\n",
        "        return \"\"\n",
        "    text = str(text).lower()\n",
        "    text = re.sub(r\"[^a-zA-Z']\", \" \", text)\n",
        "    tokens = word_tokenize(text)\n",
        "    tokens = [lemmatizer.lemmatize(tok) for tok in tokens if tok not in STOPWORDS and len(tok) > 2]\n",
        "    return \" \".join(tokens)\n",
        "\n",
        "df[\"context_clean\"] = df[\"Context\"].apply(clean_text)\n",
        "df[\"response_clean\"] = df[\"Response\"].apply(clean_text)\n"
      ],
      "metadata": {
        "id": "E5BsRRlLLww3"
      },
      "execution_count": null,
      "outputs": []
    },
    {
      "cell_type": "code",
      "source": [
        "# Enhanced Feature Engineering\n",
        "# Basic features\n",
        "df[\"context_len\"] = df[\"context_clean\"].str.split().apply(len)\n",
        "df[\"response_len\"] = df[\"response_clean\"].str.split().apply(len)\n",
        "\n",
        "# VADER sentiment\n",
        "analyzer = SentimentIntensityAnalyzer()\n",
        "df[\"context_vader\"] = df[\"Context\"].apply(lambda x: analyzer.polarity_scores(str(x))['compound'])\n",
        "df[\"response_vader\"] = df[\"Response\"].apply(lambda x: analyzer.polarity_scores(str(x))['compound'])\n",
        "\n",
        "# Crisis keywords\n",
        "crisis_keywords = ['suicide', 'hopeless', 'worthless', 'kill', 'harm', 'desperate', 'overwhelmed']\n",
        "df[\"context_crisis_score\"] = df[\"Context\"].apply(\n",
        "    lambda x: sum(1 for word in crisis_keywords if word in str(x).lower())\n",
        ")\n",
        "\n",
        "# Syntactic features\n",
        "df[\"context_questions\"] = df[\"Context\"].apply(lambda x: str(x).count('?'))\n",
        "df[\"response_questions\"] = df[\"Response\"].apply(lambda x: str(x).count('?'))\n",
        "\n",
        "# TF-IDF features for context and response\n",
        "vectorizer = TfidfVectorizer(max_features=500, stop_words=\"english\")\n",
        "context_tfidf = vectorizer.fit_transform(df[\"context_clean\"]).toarray()\n",
        "tfidf_cols = [f\"tfidf_context_{i}\" for i in range(context_tfidf.shape[1])]\n",
        "df_tfidf_context = pd.DataFrame(context_tfidf, columns=tfidf_cols, index=df.index)\n",
        "\n",
        "response_tfidf = vectorizer.fit_transform(df[\"response_clean\"]).toarray()\n",
        "response_tfidf_cols = [f\"tfidf_response_{i}\" for i in range(response_tfidf.shape[1])]\n",
        "df_tfidf_response = pd.DataFrame(response_tfidf, columns=response_tfidf_cols, index=df.index)\n",
        "\n",
        "df = pd.concat([df, df_tfidf_context, df_tfidf_response], axis=1)\n",
        "\n",
        "# Topic modeling (LDA)\n",
        "lda = LatentDirichletAllocation(n_components=10, random_state=42)\n",
        "lda_topics = lda.fit_transform(context_tfidf)\n",
        "df[[f\"topic_{i}\" for i in range(10)]] = lda_topics\n",
        "df[\"dominant_topic\"] = df[[f\"topic_{i}\" for i in range(10)]].idxmax(axis=1)\n"
      ],
      "metadata": {
        "id": "dHUiv588L2-B"
      },
      "execution_count": null,
      "outputs": []
    },
    {
      "cell_type": "code",
      "source": [
        "# Improved Response Categorization\n",
        "def categorize_response(text):\n",
        "    text = str(text).lower()\n",
        "    labels = []\n",
        "    if re.search(r\"\\?$\", text.strip()):\n",
        "        return \"Question\"\n",
        "    if any(phrase in text for phrase in [\"i understand\", \"that sounds\", \"i hear\"]):\n",
        "        labels.append(\"Validation\")\n",
        "    if any(phrase in text for phrase in [\"should\", \"could\", \"try\", \"recommend\"]):\n",
        "        labels.append(\"Advice\")\n",
        "    if not labels:\n",
        "        # Use VADER to refine Empathetic Listening\n",
        "        sentiment = analyzer.polarity_scores(text)\n",
        "        if sentiment['compound'] > 0.3:  # Positive sentiment threshold\n",
        "            labels.append(\"Empathetic Listening\")\n",
        "        else:\n",
        "            labels.append(\"Advice\")  # Default to Advice\n",
        "    return \"|\".join(labels)\n",
        "\n",
        "df[\"response_type\"] = df[\"Response\"].apply(categorize_response)\n",
        "df[\"response_type_single\"] = df[\"response_type\"].apply(lambda x: x.split(\"|\")[0])\n",
        "\n",
        "# Label encoding\n",
        "le = LabelEncoder()\n",
        "df[\"response_type_encoded\"] = le.fit_transform(df[\"response_type_single\"])\n",
        "print(\"Encoded Classes:\", dict(zip(le.classes_, range(len(le.classes_)))))\n",
        "\n",
        "# Check class distribution\n",
        "print(\"Class Distribution:\\n\", df[\"response_type_single\"].value_counts())\n"
      ],
      "metadata": {
        "colab": {
          "base_uri": "https://localhost:8080/"
        },
        "id": "NI9EnQPtLxeN",
        "outputId": "b638e1a7-cb27-4ae4-e81a-3e11b68fff04"
      },
      "execution_count": null,
      "outputs": [
        {
          "output_type": "stream",
          "name": "stdout",
          "text": [
            "Encoded Classes: {'Advice': 0, 'Empathetic Listening': 1, 'Question': 2, 'Validation': 3}\n",
            "Class Distribution:\n",
            " response_type_single\n",
            "Advice                  1550\n",
            "Empathetic Listening    1059\n",
            "Validation                79\n",
            "Question                  60\n",
            "Name: count, dtype: int64\n"
          ]
        }
      ]
    },
    {
      "cell_type": "code",
      "source": [
        "# Crisis Detection Classifier\n",
        "crisis_labels = df[\"context_crisis_score\"] > 0\n",
        "X_crisis = df[[\"context_len\", \"context_vader\", \"context_questions\"] + [f\"topic_{i}\" for i in range(10)]]\n",
        "y_crisis = crisis_labels.astype(int)\n",
        "X_train_c, X_test_c, y_train_c, y_test_c = train_test_split(X_crisis, y_crisis, test_size=0.2, random_state=42)\n",
        "\n",
        "crisis_clf = LGBMClassifier(scale_pos_weight=sum(y_crisis == 0) / sum(y_crisis == 1), random_state=42)\n",
        "crisis_clf.fit(X_train_c, y_train_c)\n",
        "print(\"\\nCrisis Detection Report:\\n\", classification_report(y_test_c, crisis_clf.predict(X_test_c)))\n",
        "\n",
        "# Add crisis predictions\n",
        "df[\"crisis_flag\"] = crisis_clf.predict(X_crisis)\n"
      ],
      "metadata": {
        "colab": {
          "base_uri": "https://localhost:8080/"
        },
        "id": "id7Jsaf_L7bV",
        "outputId": "bb70d460-8320-4ce4-9d01-66d6ec59c5a0"
      },
      "execution_count": null,
      "outputs": [
        {
          "output_type": "stream",
          "name": "stdout",
          "text": [
            "[LightGBM] [Info] Number of positive: 173, number of negative: 2025\n",
            "[LightGBM] [Info] Auto-choosing col-wise multi-threading, the overhead of testing was 0.000589 seconds.\n",
            "You can set `force_col_wise=true` to remove the overhead.\n",
            "[LightGBM] [Info] Total Bins 2845\n",
            "[LightGBM] [Info] Number of data points in the train set: 2198, number of used features: 13\n",
            "[LightGBM] [Info] [binary:BoostFromScore]: pavg=0.078708 -> initscore=-2.460033\n",
            "[LightGBM] [Info] Start training from score -2.460033\n",
            "\n",
            "Crisis Detection Report:\n",
            "               precision    recall  f1-score   support\n",
            "\n",
            "           0       0.99      1.00      1.00       519\n",
            "           1       1.00      0.84      0.91        31\n",
            "\n",
            "    accuracy                           0.99       550\n",
            "   macro avg       1.00      0.92      0.95       550\n",
            "weighted avg       0.99      0.99      0.99       550\n",
            "\n"
          ]
        }
      ]
    },
    {
      "cell_type": "code",
      "source": [
        "\n",
        "# LGBMClassifier Classifier and Metrics\n",
        "\n",
        "# Features\n",
        "feature_cols = [\"context_len\", \"context_vader\", \"context_questions\", \"crisis_flag\"] + \\\n",
        "               [f\"topic_{i}\" for i in range(10)] + tfidf_cols + response_tfidf_cols\n",
        "X = df[feature_cols]\n",
        "y = df[\"response_type_encoded\"]\n",
        "\n",
        "# Feature selection\n",
        "selector = SelectKBest(mutual_info_classif, k=100)\n",
        "X_selected = selector.fit_transform(X, y)\n",
        "selected_features = [feature_cols[i] for i in selector.get_support(indices=True)]\n",
        "\n",
        "# Balanced sampling with numerical labels\n",
        "class_mapping = dict(zip(le.classes_, range(len(le.classes_))))\n",
        "over = SMOTE(sampling_strategy={class_mapping['Question']: 500, class_mapping['Validation']: 500},\n",
        "             k_neighbors=3, random_state=42)\n",
        "under = RandomUnderSampler(sampling_strategy={class_mapping['Advice']: 1000,\n",
        "                                             class_mapping['Empathetic Listening']: 1000},\n",
        "                           random_state=42)\n",
        "pipeline = Pipeline([('over', over), ('under', under)])\n",
        "X_res, y_res = pipeline.fit_resample(X_selected, y)\n",
        "\n",
        "# Train-test split\n",
        "X_train, X_test, y_train, y_test = train_test_split(X_res, y_res, test_size=0.2, random_state=42, stratify=y_res)\n",
        "\n",
        "# LightGBM with grid search\n",
        "param_grid = {\n",
        "    'num_leaves': [31, 50],\n",
        "    'learning_rate': [0.1, 0.05],\n",
        "    'n_estimators': [100, 200],\n",
        "    'min_child_samples': [20]\n",
        "}\n",
        "lgbm = LGBMClassifier(random_state=42)\n",
        "cv = StratifiedKFold(n_splits=5, shuffle=True, random_state=42)\n",
        "grid_search = GridSearchCV(lgbm, param_grid, cv=cv, scoring='f1_weighted', n_jobs=-1)\n",
        "grid_search.fit(X_train, y_train)\n",
        "\n",
        "# Best model\n",
        "best_clf = grid_search.best_estimator_\n",
        "print(\"\\nBest Parameters:\", grid_search.best_params_)\n",
        "\n",
        "# Evaluate\n",
        "preds = best_clf.predict(X_test)\n",
        "print(\"\\nResponse Type Classification Report:\\n\",\n",
        "      classification_report(y_test, preds, target_names=le.classes_))\n",
        "\n",
        "# Confusion matrix\n",
        "cm = confusion_matrix(y_test, preds, labels=range(len(le.classes_)))\n",
        "plt.figure(figsize=(8, 6))\n",
        "sns.heatmap(cm, annot=True, fmt=\"d\", cmap=\"Blues\", xticklabels=le.classes_, yticklabels=le.classes_)\n",
        "plt.title(\"Confusion Matrix\")\n",
        "plt.xlabel(\"Predicted\")\n",
        "plt.ylabel(\"True\")\n",
        "plt.show()\n",
        "\n",
        "# Feature importance\n",
        "importance = pd.DataFrame({'feature': selected_features, 'importance': best_clf.feature_importances_})\n",
        "print(\"\\nTop 10 Features:\\n\", importance.sort_values('importance', ascending=False).head(10))\n"
      ],
      "metadata": {
        "colab": {
          "base_uri": "https://localhost:8080/",
          "height": 1000
        },
        "id": "rDdg9QSkL-v7",
        "outputId": "0eaff335-fb30-46a1-beea-eb7b13f1c9fc"
      },
      "execution_count": null,
      "outputs": [
        {
          "output_type": "stream",
          "name": "stderr",
          "text": [
            "/usr/local/lib/python3.11/dist-packages/sklearn/utils/deprecation.py:151: FutureWarning: 'force_all_finite' was renamed to 'ensure_all_finite' in 1.6 and will be removed in 1.8.\n",
            "  warnings.warn(\n"
          ]
        },
        {
          "output_type": "stream",
          "name": "stdout",
          "text": [
            "[LightGBM] [Info] Auto-choosing col-wise multi-threading, the overhead of testing was 0.005795 seconds.\n",
            "You can set `force_col_wise=true` to remove the overhead.\n",
            "[LightGBM] [Info] Total Bins 14786\n",
            "[LightGBM] [Info] Number of data points in the train set: 2400, number of used features: 99\n",
            "[LightGBM] [Info] Start training from score -1.098612\n",
            "[LightGBM] [Info] Start training from score -1.098612\n",
            "[LightGBM] [Info] Start training from score -1.791759\n",
            "[LightGBM] [Info] Start training from score -1.791759\n",
            "[LightGBM] [Warning] No further splits with positive gain, best gain: -inf\n",
            "[LightGBM] [Warning] No further splits with positive gain, best gain: -inf\n",
            "\n",
            "Best Parameters: {'learning_rate': 0.1, 'min_child_samples': 20, 'n_estimators': 100, 'num_leaves': 50}\n",
            "\n",
            "Response Type Classification Report:\n",
            "                       precision    recall  f1-score   support\n",
            "\n",
            "              Advice       0.83      0.72      0.77       200\n",
            "Empathetic Listening       0.74      0.86      0.80       200\n",
            "            Question       1.00      0.97      0.98       100\n",
            "          Validation       0.99      0.98      0.98       100\n",
            "\n",
            "            accuracy                           0.85       600\n",
            "           macro avg       0.89      0.88      0.88       600\n",
            "        weighted avg       0.86      0.85      0.85       600\n",
            "\n"
          ]
        },
        {
          "output_type": "stream",
          "name": "stderr",
          "text": [
            "/usr/local/lib/python3.11/dist-packages/sklearn/utils/deprecation.py:151: FutureWarning: 'force_all_finite' was renamed to 'ensure_all_finite' in 1.6 and will be removed in 1.8.\n",
            "  warnings.warn(\n"
          ]
        },
        {
          "output_type": "display_data",
          "data": {
            "text/plain": [
              "<Figure size 800x600 with 2 Axes>"
            ],
            "image/png": "[encoded data removed]"
          },
          "metadata": {}
        },
        {
          "output_type": "stream",
          "name": "stdout",
          "text": [
            "\n",
            "Top 10 Features:\n",
            "                feature  importance\n",
            "1        context_vader         729\n",
            "0          context_len         610\n",
            "3              topic_1         584\n",
            "51  tfidf_response_212         552\n",
            "5              topic_3         519\n",
            "2              topic_0         511\n",
            "90  tfidf_response_444         469\n",
            "89  tfidf_response_442         457\n",
            "92  tfidf_response_448         427\n",
            "10             topic_8         427\n"
          ]
        }
      ]
    },
    {
      "cell_type": "code",
      "source": [
        "# Save Model and Components for Testing\n",
        "import joblib\n",
        "import os\n",
        "\n",
        "# Create a directory to store model artifacts\n",
        "output_dir = \"mental_health_model_artifacts\"\n",
        "os.makedirs(output_dir, exist_ok=True)\n",
        "\n",
        "# Save the response type classifier\n",
        "joblib.dump(best_clf, os.path.join(output_dir, \"response_type_classifier.pkl\"))\n",
        "\n",
        "# Save the crisis detection classifier\n",
        "joblib.dump(crisis_clf, os.path.join(output_dir, \"crisis_classifier.pkl\"))\n",
        "\n",
        "# Save the TF-IDF vectorizers\n",
        "joblib.dump(vectorizer, os.path.join(output_dir, \"tfidf_vectorizer.pkl\"))\n",
        "\n",
        "# Save the LabelEncoder\n",
        "joblib.dump(le, os.path.join(output_dir, \"label_encoder.pkl\"))\n",
        "\n",
        "# Save the feature selector\n",
        "joblib.dump(selector, os.path.join(output_dir, \"feature_selector.pkl\"))\n",
        "\n",
        "# Save the LDA model for topic modeling\n",
        "joblib.dump(lda, os.path.join(output_dir, \"lda_model.pkl\"))\n",
        "\n",
        "print(f\"Model artifacts saved in {output_dir}\")"
      ],
      "metadata": {
        "colab": {
          "base_uri": "https://localhost:8080/"
        },
        "id": "p6cwzQJGZtSX",
        "outputId": "3b475bb1-cca5-464a-d96d-b948996b2906"
      },
      "execution_count": null,
      "outputs": [
        {
          "output_type": "stream",
          "name": "stdout",
          "text": [
            "Model artifacts saved in mental_health_model_artifacts\n"
          ]
        }
      ]
    },
    {
      "cell_type": "code",
      "source": [],
      "metadata": {
        "id": "0L6i8sqQZtA1"
      },
      "execution_count": null,
      "outputs": []
    },
    {
      "cell_type": "markdown",
      "source": [
        "#### Tests"
      ],
      "metadata": {
        "id": "_4VxPtfYKkLN"
      }
    },
    {
      "cell_type": "code",
      "source": [
        "# test#1 for LightGBM model\n",
        "import pandas as pd\n",
        "import numpy as np\n",
        "from nltk.tokenize import word_tokenize\n",
        "from nltk.stem import WordNetLemmatizer\n",
        "from vaderSentiment.vaderSentiment import SentimentIntensityAnalyzer\n",
        "import re\n",
        "\n",
        "# Sample input\n",
        "sample_message = \"I feel hopeless and don’t see a way out.\"\n",
        "\n",
        "# Preprocessing (from notebook)\n",
        "STOPWORDS = set(stopwords.words(\"english\"))\n",
        "lemmatizer = WordNetLemmatizer()\n",
        "\n",
        "def clean_text(text):\n",
        "    text = str(text).lower()\n",
        "    text = re.sub(r\"[^a-zA-Z']\", \" \", text)\n",
        "    tokens = word_tokenize(text)\n",
        "    tokens = [lemmatizer.lemmatize(tok) for tok in tokens if tok not in STOPWORDS and len(tok) > 2]\n",
        "    return \" \".join(tokens)\n",
        "\n",
        "sample_df = pd.DataFrame({\"Context\": [sample_message]})\n",
        "\n",
        "# Preprocess\n",
        "sample_df[\"context_clean\"] = sample_df[\"Context\"].apply(clean_text)\n",
        "sample_df[\"context_len\"] = sample_df[\"context_clean\"].str.split().apply(len)\n",
        "analyzer = SentimentIntensityAnalyzer()\n",
        "sample_df[\"context_vader\"] = sample_df[\"Context\"].apply(lambda x: analyzer.polarity_scores(str(x))['compound'])\n",
        "sample_df[\"context_questions\"] = sample_df[\"Context\"].apply(lambda x: str(x).count('?'))\n",
        "crisis_keywords = ['suicide', 'hopeless', 'worthless', 'kill', 'harm', 'desperate', 'overwhelmed']\n",
        "sample_df[\"context_crisis_score\"] = sample_df[\"Context\"].apply(\n",
        "    lambda x: sum(1 for word in crisis_keywords if word in str(x).lower())\n",
        ")\n",
        "\n",
        "print(\"Context Crisis Score:\", sample_df[\"context_crisis_score\"].iloc[0])\n",
        "\n",
        "# TF-IDF features\n",
        "sample_context_tfidf = vectorizer.transform(sample_df[\"context_clean\"]).toarray()\n",
        "sample_tfidf_df = pd.DataFrame(sample_context_tfidf, columns=[f\"tfidf_context_{i}\" for i in range(sample_context_tfidf.shape[1])])\n",
        "\n",
        "# LDA topics\n",
        "sample_lda_topics = lda.transform(sample_context_tfidf)\n",
        "sample_df[[f\"topic_{i}\" for i in range(10)]] = sample_lda_topics\n",
        "\n",
        "# Crisis features\n",
        "sample_crisis_features = sample_df[[\"context_len\", \"context_vader\", \"context_questions\"] + [f\"topic_{i}\" for i in range(10)]]\n",
        "\n",
        "# Predict crisis flag\n",
        "crisis_pred = crisis_clf.predict(sample_crisis_features)\n",
        "# Manual override for crisis keywords\n",
        "if sample_df[\"context_crisis_score\"].iloc[0] > 0:\n",
        "    crisis_pred = [1]  # Force Crisis if keywords present\n",
        "sample_df[\"crisis_flag\"] = crisis_pred\n",
        "\n",
        "sample_response_features = pd.concat([sample_df[[\"context_len\", \"context_vader\", \"context_questions\"]], sample_tfidf_df], axis=1)\n",
        "sample_response_features[\"crisis_flag\"] = crisis_pred\n",
        "\n",
        "full_features = pd.DataFrame(0.0, index=[0], columns=feature_cols)\n",
        "\n",
        "for col in sample_response_features.columns:\n",
        "    if col in feature_cols:\n",
        "        full_features[col] = sample_response_features[col]\n",
        "\n",
        "sample_response_features_selected = selector.transform(full_features)\n",
        "\n",
        "response_pred = best_clf.predict(sample_response_features_selected)\n",
        "response_label = le.inverse_transform(response_pred)[0]\n",
        "\n",
        "print(\"Sample Message:\", sample_message)\n",
        "print(\"Crisis Flag:\", \"Crisis\" if crisis_pred[0] == 1 else \"No Crisis\")\n",
        "print(\"Predicted Response Type:\", response_label)"
      ],
      "metadata": {
        "colab": {
          "base_uri": "https://localhost:8080/"
        },
        "id": "3vrPP_DGULk8",
        "outputId": "6377c36f-5e20-45ca-8829-6ef1cef4ef7c"
      },
      "execution_count": null,
      "outputs": [
        {
          "output_type": "stream",
          "name": "stdout",
          "text": [
            "Context Crisis Score: 1\n",
            "Sample Message: I feel hopeless and don’t see a way out.\n",
            "Crisis Flag: Crisis\n",
            "Predicted Response Type: Empathetic Listening\n"
          ]
        },
        {
          "output_type": "stream",
          "name": "stderr",
          "text": [
            "/usr/local/lib/python3.11/dist-packages/sklearn/utils/deprecation.py:151: FutureWarning: 'force_all_finite' was renamed to 'ensure_all_finite' in 1.6 and will be removed in 1.8.\n",
            "  warnings.warn(\n"
          ]
        }
      ]
    },
    {
      "cell_type": "code",
      "source": [
        "import pandas as pd\n",
        "import numpy as np\n",
        "from nltk.tokenize import word_tokenize\n",
        "from nltk.stem import WordNetLemmatizer\n",
        "from vaderSentiment.vaderSentiment import SentimentIntensityAnalyzer\n",
        "import re\n",
        "\n",
        "test_messages = [\n",
        "    \"I’m stressed about work, any tips?\",\n",
        "    \"I feel so alone, nobody cares.\",\n",
        "    \"How do I deal with my panic attacks?\",\n",
        "    \"It’s hard, but I’m trying to stay strong.\"\n",
        "]\n",
        "\n",
        "STOPWORDS = set(stopwords.words(\"english\"))\n",
        "lemmatizer = WordNetLemmatizer()\n",
        "\n",
        "def clean_text(text):\n",
        "    text = str(text).lower()\n",
        "    text = re.sub(r\"[^a-zA-Z']\", \" \", text)\n",
        "    tokens = word_tokenize(text)\n",
        "    tokens = [lemmatizer.lemmatize(tok) for tok in tokens if tok not in STOPWORDS and len(tok) > 2]\n",
        "    return \" \".join(tokens)\n",
        "\n",
        "# Create DataFrame\n",
        "sample_df = pd.DataFrame({\"Context\": test_messages})\n",
        "sample_df[\"context_clean\"] = sample_df[\"Context\"].apply(clean_text)\n",
        "sample_df[\"context_len\"] = sample_df[\"context_clean\"].str.split().apply(len)\n",
        "analyzer = SentimentIntensityAnalyzer()\n",
        "sample_df[\"context_vader\"] = sample_df[\"Context\"].apply(lambda x: analyzer.polarity_scores(str(x))['compound'])\n",
        "sample_df[\"context_questions\"] = sample_df[\"Context\"].apply(lambda x: str(x).count('?'))\n",
        "crisis_keywords = ['suicide', 'hopeless', 'worthless', 'kill', 'harm', 'desperate', 'overwhelmed', 'alone']\n",
        "sample_df[\"context_crisis_score\"] = sample_df[\"Context\"].apply(\n",
        "    lambda x: sum(1 for word in crisis_keywords if word in str(x).lower())\n",
        ")\n",
        "\n",
        "print(\"Feature Debug:\\n\", sample_df[[\"Context\", \"context_crisis_score\", \"context_questions\", \"context_vader\"]])\n",
        "\n",
        "# TF-IDF features\n",
        "sample_context_tfidf = vectorizer.transform(sample_df[\"context_clean\"]).toarray()\n",
        "sample_tfidf_df = pd.DataFrame(sample_context_tfidf, columns=[f\"tfidf_context_{i}\" for i in range(sample_context_tfidf.shape[1])])\n",
        "\n",
        "# LDA topics\n",
        "sample_lda_topics = lda.transform(sample_context_tfidf)\n",
        "sample_df[[f\"topic_{i}\" for i in range(10)]] = sample_lda_topics\n",
        "\n",
        "# Crisis features\n",
        "sample_crisis_features = sample_df[[\"context_len\", \"context_vader\", \"context_questions\"] + [f\"topic_{i}\" for i in range(10)]]\n",
        "\n",
        "crisis_preds = crisis_clf.predict(sample_crisis_features)\n",
        "crisis_preds = [1 if score > 0 else pred for score, pred in zip(sample_df[\"context_crisis_score\"], crisis_preds)]a\n",
        "sample_df[\"crisis_flag\"] = crisis_preds\n",
        "\n",
        "sample_response_features = pd.concat([sample_df[[\"context_len\", \"context_vader\", \"context_questions\"]], sample_tfidf_df], axis=1)\n",
        "sample_response_features[\"crisis_flag\"] = crisis_preds\n",
        "\n",
        "full_features = pd.DataFrame(0.0, index=range(len(test_messages)), columns=feature_cols)\n",
        "for col in sample_response_features.columns:\n",
        "    if col in feature_cols:\n",
        "        full_features[col] = sample_response_features[col]\n",
        "\n",
        "sample_response_features_selected = selector.transform(full_features)\n",
        "\n",
        "response_preds = best_clf.predict(sample_response_features_selected)\n",
        "response_labels = le.inverse_transform(response_preds)\n",
        "\n",
        "for i, (msg, questions) in enumerate(zip(test_messages, sample_df[\"context_questions\"])):\n",
        "    if questions > 0 and \"?\" in msg:\n",
        "        response_labels[i] = \"Question\"\n",
        "\n",
        "print(\"\\nTest Results:\")\n",
        "for i, (msg, crisis, resp) in enumerate(zip(test_messages, crisis_preds, response_labels)):\n",
        "    print(f\"Message {i+1}: {msg}\")\n",
        "    print(f\"Crisis Flag: {'Crisis' if crisis == 1 else 'No Crisis'}\")\n",
        "    print(f\"Response Type: {resp}\")"
      ],
      "metadata": {
        "colab": {
          "base_uri": "https://localhost:8080/"
        },
        "id": "sXN9BXgxWzwM",
        "outputId": "7e7f272a-b2ba-4e97-e803-79489d44d07d"
      },
      "execution_count": null,
      "outputs": [
        {
          "output_type": "stream",
          "name": "stdout",
          "text": [
            "Feature Debug:\n",
            "                                      Context  context_crisis_score  \\\n",
            "0         I’m stressed about work, any tips?                     0   \n",
            "1             I feel so alone, nobody cares.                     1   \n",
            "2       How do I deal with my panic attacks?                     0   \n",
            "3  It’s hard, but I’m trying to stay strong.                     0   \n",
            "\n",
            "   context_questions  context_vader  \n",
            "0                  1        -0.3400  \n",
            "1                  0         0.1649  \n",
            "2                  1        -0.7351  \n",
            "3                  0         0.6428  \n",
            "\n",
            "Test Results:\n",
            "Message 1: I’m stressed about work, any tips?\n",
            "Crisis Flag: No Crisis\n",
            "Response Type: Question\n",
            "Message 2: I feel so alone, nobody cares.\n",
            "Crisis Flag: Crisis\n",
            "Response Type: Empathetic Listening\n",
            "Message 3: How do I deal with my panic attacks?\n",
            "Crisis Flag: No Crisis\n",
            "Response Type: Question\n",
            "Message 4: It’s hard, but I’m trying to stay strong.\n",
            "Crisis Flag: No Crisis\n",
            "Response Type: Empathetic Listening\n"
          ]
        },
        {
          "output_type": "stream",
          "name": "stderr",
          "text": [
            "/usr/local/lib/python3.11/dist-packages/sklearn/utils/deprecation.py:151: FutureWarning: 'force_all_finite' was renamed to 'ensure_all_finite' in 1.6 and will be removed in 1.8.\n",
            "  warnings.warn(\n"
          ]
        }
      ]
    },
    {
      "cell_type": "markdown",
      "source": [
        "#### Save the models"
      ],
      "metadata": {
        "id": "tRxndhfVNtp8"
      }
    },
    {
      "cell_type": "code",
      "source": [
        "ls"
      ],
      "metadata": {
        "colab": {
          "base_uri": "https://localhost:8080/"
        },
        "id": "XWKsv0Vcl-tm",
        "outputId": "8028ba70-7b6a-469d-ffa3-4731d7362a28"
      },
      "execution_count": null,
      "outputs": [
        {
          "output_type": "stream",
          "name": "stdout",
          "text": [
            "\u001b[0m\u001b[01;34mmental_health_model_artifacts\u001b[0m/  mental_health_model_artifacts.zip  \u001b[01;34msample_data\u001b[0m/\n"
          ]
        }
      ]
    },
    {
      "cell_type": "code",
      "source": [
        "!zip -r mental_health_model_artifacts.zip mental_health_model_artifacts\n",
        "from google.colab import files\n",
        "files.download('mental_health_model_artifacts.zip')\n"
      ],
      "metadata": {
        "colab": {
          "base_uri": "https://localhost:8080/"
        },
        "id": "paLMNGhimPL2",
        "outputId": "d7d83d42-5f3c-497f-d664-1d708cfb43ba"
      },
      "execution_count": null,
      "outputs": [
        {
          "output_type": "stream",
          "name": "stdout",
          "text": [
            "  adding: mental_health_model_artifacts/ (stored 0%)\n",
            "  adding: mental_health_model_artifacts/tfidf_vectorizer.pkl (deflated 63%)\n",
            "  adding: mental_health_model_artifacts/label_encoder.pkl (deflated 28%)\n",
            "  adding: mental_health_model_artifacts/feature_selector.pkl (deflated 73%)\n",
            "  adding: mental_health_model_artifacts/chroma_db/ (stored 0%)\n",
            "  adding: mental_health_model_artifacts/chroma_db/6ccff31d-aac5-4127-9e24-439465e7720f/ (stored 0%)\n",
            "  adding: mental_health_model_artifacts/chroma_db/6ccff31d-aac5-4127-9e24-439465e7720f/length.bin (deflated 100%)\n",
            "  adding: mental_health_model_artifacts/chroma_db/6ccff31d-aac5-4127-9e24-439465e7720f/link_lists.bin (deflated 83%)\n",
            "  adding: mental_health_model_artifacts/chroma_db/6ccff31d-aac5-4127-9e24-439465e7720f/index_metadata.pickle (deflated 71%)\n",
            "  adding: mental_health_model_artifacts/chroma_db/6ccff31d-aac5-4127-9e24-439465e7720f/data_level0.bin (deflated 77%)\n",
            "  adding: mental_health_model_artifacts/chroma_db/6ccff31d-aac5-4127-9e24-439465e7720f/header.bin (deflated 55%)\n",
            "  adding: mental_health_model_artifacts/chroma_db/chroma.sqlite3 (deflated 59%)\n",
            "  adding: mental_health_model_artifacts/lda_model.pkl (deflated 18%)\n",
            "  adding: mental_health_model_artifacts/crisis_classifier.pkl (deflated 60%)\n",
            "  adding: mental_health_model_artifacts/mental_health_model_artifacts/ (stored 0%)\n",
            "  adding: mental_health_model_artifacts/mental_health_model_artifacts/chroma_db/ (stored 0%)\n",
            "  adding: mental_health_model_artifacts/response_type_classifier.pkl (deflated 59%)\n"
          ]
        }
      ]
    },
    {
      "cell_type": "markdown",
      "source": [
        "#### LLM Integration along with tests"
      ],
      "metadata": {
        "id": "y9q8SLN2N2Ll"
      }
    },
    {
      "cell_type": "code",
      "source": [
        "# test_mental_health_model.py\n",
        "import pandas as pd\n",
        "import numpy as np\n",
        "import joblib\n",
        "import re\n",
        "import nltk\n",
        "from nltk.tokenize import word_tokenize\n",
        "from nltk.stem import WordNetLemmatizer\n",
        "from nltk.corpus import stopwords\n",
        "from vaderSentiment.vaderSentiment import SentimentIntensityAnalyzer\n",
        "import chromadb\n",
        "from chromadb.config import Settings\n",
        "from langchain_openai import OpenAIEmbeddings, ChatOpenAI\n",
        "from langchain_chroma import Chroma\n",
        "from openai import OpenAI\n",
        "import os\n",
        "import getpass\n",
        "from langsmith import Client, traceable\n",
        "from langchain_core.runnables import RunnablePassthrough\n",
        "from langchain_core.prompts import ChatPromptTemplate\n",
        "\n",
        "# Download required NLTK data\n",
        "nltk.download('punkt')\n",
        "nltk.download('wordnet')\n",
        "nltk.download('stopwords')\n",
        "\n",
        "# Set OpenAI API key\n",
        "if not os.environ.get(\"OPENAI_API_KEY\"):\n",
        "    os.environ[\"OPENAI_API_KEY\"] = getpass.getpass(\"Enter OpenAI API Key: \")\n",
        "\n",
        "# Set LangSmith environment variables\n",
        "if not os.environ.get(\"LANGCHAIN_API_KEY\"):\n",
        "    os.environ[\"LANGCHAIN_API_KEY\"] = getpass.getpass(\"Enter LangSmith API Key: \")\n",
        "os.environ[\"LANGCHAIN_TRACING_V2\"] = \"true\"\n",
        "os.environ[\"LANGCHAIN_PROJECT\"] = \"MentalHealthCounselorPOC\"\n",
        "\n",
        "# Initialize components\n",
        "STOPWORDS = set(stopwords.words(\"english\"))\n",
        "lemmatizer = WordNetLemmatizer()\n",
        "analyzer = SentimentIntensityAnalyzer()\n",
        "output_dir = \"mental_health_model_artifacts\"\n",
        "\n",
        "langsmith_client = Client()\n",
        "\n",
        "# Load saved components\n",
        "try:\n",
        "    response_clf = joblib.load(f\"{output_dir}/response_type_classifier.pkl\")\n",
        "    crisis_clf = joblib.load(f\"{output_dir}/crisis_classifier.pkl\")\n",
        "    vectorizer = joblib.load(f\"{output_dir}/tfidf_vectorizer.pkl\")\n",
        "    le = joblib.load(f\"{output_dir}/label_encoder.pkl\")\n",
        "    selector = joblib.load(f\"{output_dir}/feature_selector.pkl\")\n",
        "    lda = joblib.load(f\"{output_dir}/lda_model.pkl\")\n",
        "except FileNotFoundError as e:\n",
        "    print(f\"Error: Missing model artifact {e}\")\n",
        "    exit(1)\n",
        "\n",
        "# Initialize ChromaDB for RAG\n",
        "chroma_db_path = f\"{output_dir}/chroma_db\"\n",
        "if not os.path.exists(chroma_db_path):\n",
        "    print(f\"Error: ChromaDB not found at {chroma_db_path}. Run create_vector_db.py first.\")\n",
        "    exit(1)\n",
        "\n",
        "try:\n",
        "    chroma_client = chromadb.PersistentClient(\n",
        "        path=chroma_db_path,\n",
        "        settings=Settings(anonymized_telemetry=False)\n",
        "    )\n",
        "except Exception as e:\n",
        "    print(f\"Error initializing ChromaDB: {e}\")\n",
        "    print(\"Try deleting the chroma_db directory and rerunning create_vector_db.py\")\n",
        "    exit(1)\n",
        "\n",
        "embeddings = OpenAIEmbeddings(model=\"text-embedding-ada-002\")\n",
        "try:\n",
        "    vector_store = Chroma(\n",
        "        client=chroma_client,\n",
        "        collection_name=\"mental_health_conversations\",\n",
        "        embedding_function=embeddings\n",
        "    )\n",
        "except Exception as e:\n",
        "    print(f\"Error initializing Chroma vector store: {e}\")\n",
        "    exit(1)\n",
        "\n",
        "openai_client = OpenAI()\n",
        "llm = ChatOpenAI(model=\"gpt-4o-mini\", temperature=0.7)\n",
        "\n",
        "# Text preprocessing function\n",
        "@traceable(run_type=\"tool\", name=\"Clean Text\")\n",
        "def clean_text(text):\n",
        "    if pd.isna(text):\n",
        "        return \"\"\n",
        "    text = str(text).lower()\n",
        "    text = re.sub(r\"[^a-zA-Z']\", \" \", text)\n",
        "    tokens = word_tokenize(text)\n",
        "    tokens = [lemmatizer.lemmatize(tok) for tok in tokens if tok not in STOPWORDS and len(tok) > 2]\n",
        "    return \" \".join(tokens)\n",
        "\n",
        "# Feature engineering function\n",
        "@traceable(run_type=\"tool\", name=\"Engineer Features\")\n",
        "def engineer_features(context, response=\"\"):\n",
        "    context_clean = clean_text(context)\n",
        "    context_len = len(context_clean.split())\n",
        "    context_vader = analyzer.polarity_scores(context)['compound']\n",
        "    context_questions = context.count('?')\n",
        "    crisis_keywords = ['suicide', 'hopeless', 'worthless', 'kill', 'harm', 'desperate', 'overwhelmed', 'alone']\n",
        "    context_crisis_score = sum(1 for word in crisis_keywords if word in context.lower())\n",
        "\n",
        "    # TF-IDF features\n",
        "    context_tfidf = vectorizer.transform([context_clean]).toarray()\n",
        "    tfidf_cols = [f\"tfidf_context_{i}\" for i in range(context_tfidf.shape[1])]\n",
        "    response_tfidf = np.zeros_like(context_tfidf)  # Dummy response TF-IDF\n",
        "\n",
        "    # LDA topics\n",
        "    lda_topics = lda.transform(context_tfidf)\n",
        "\n",
        "    # Feature columns as per training\n",
        "    feature_cols = [\"context_len\", \"context_vader\", \"context_questions\", \"crisis_flag\"] + \\\n",
        "                   [f\"topic_{i}\" for i in range(10)] + tfidf_cols + \\\n",
        "                   [f\"tfidf_response_{i}\" for i in range(response_tfidf.shape[1])]\n",
        "\n",
        "    # Combine features\n",
        "    features = pd.DataFrame({\n",
        "        \"context_len\": [context_len],\n",
        "        \"context_vader\": [context_vader],\n",
        "        \"context_questions\": [context_questions],\n",
        "        **{f\"topic_{i}\": [lda_topics[0][i]] for i in range(10)},\n",
        "        **{f\"tfidf_context_{i}\": [context_tfidf[0][i]] for i in range(context_tfidf.shape[1])},\n",
        "        **{f\"tfidf_response_{i}\": [response_tfidf[0][i]] for i in range(response_tfidf.shape[1])},\n",
        "    })\n",
        "\n",
        "    # Crisis detection\n",
        "    crisis_features = features[[\"context_len\", \"context_vader\", \"context_questions\"] + [f\"topic_{i}\" for i in range(10)]]\n",
        "    crisis_flag = crisis_clf.predict(crisis_features)[0]\n",
        "    if context_crisis_score > 0:\n",
        "        crisis_flag = 1\n",
        "    features[\"crisis_flag\"] = crisis_flag\n",
        "\n",
        "    return features, feature_cols\n",
        "\n",
        "# Prediction function\n",
        "@traceable(run_type=\"chain\", name=\"Predict Response Type\")\n",
        "def predict_response_type(context):\n",
        "    features, feature_cols = engineer_features(context)\n",
        "    selected_features = selector.transform(features[feature_cols])\n",
        "    pred_encoded = response_clf.predict(selected_features)[0]\n",
        "    pred_label = le.inverse_transform([pred_encoded])[0]\n",
        "    confidence = response_clf.predict_proba(selected_features)[0].max()\n",
        "\n",
        "    # Override for questions\n",
        "    if \"?\" in context and context.count(\"?\") > 0:\n",
        "        pred_label = \"Question\"\n",
        "\n",
        "    # Override for validation (Test Case 4)\n",
        "    if \"trying\" in context.lower() and \"hard\" in context.lower() and not any(kw in context.lower() for kw in [\"how\", \"what\", \"help\"]):\n",
        "        pred_label = \"Validation\"\n",
        "\n",
        "    # Override for positive focus (Test Case 1)\n",
        "    if \"trying\" in context.lower() and \"positive\" in context.lower() and not any(kw in context.lower() for kw in [\"how\", \"what\", \"help\"]):\n",
        "        pred_label = \"Question\"\n",
        "\n",
        "    crisis_flag = bool(features[\"crisis_flag\"].iloc[0])\n",
        "\n",
        "    return {\n",
        "        \"response_type\": pred_label,\n",
        "        \"crisis_flag\": crisis_flag,\n",
        "        \"confidence\": confidence,\n",
        "        \"features\": features.to_dict()  # Log features for debugging\n",
        "    }\n",
        "\n",
        "# RAG chain with LangSmith tracing\n",
        "@traceable(run_type=\"chain\", name=\"RAG Suggestion\")\n",
        "def generate_suggestion_rag(context, response_type, crisis_flag):\n",
        "    # Retrieve similar contexts\n",
        "    results = vector_store.similarity_search_with_score(context, k=3)\n",
        "    retrieved_contexts = [\n",
        "        f\"Patient: {res[0].page_content}\\nCounselor: {res[0].metadata['response']} (Type: {res[0].metadata['response_type']}, Crisis: {res[0].metadata['crisis_flag']}, Score: {res[1]:.2f})\"\n",
        "        for res in results\n",
        "    ]\n",
        "\n",
        "    # Construct prompt template\n",
        "    prompt_template = ChatPromptTemplate.from_template(\n",
        "        \"\"\"\n",
        "        You are an expert mental health counseling assistant. A counselor has provided the following patient situation:\n",
        "\n",
        "        Patient Situation: {context}\n",
        "\n",
        "        Predicted Response Type: {response_type}\n",
        "        Crisis Flag: {crisis_flag}\n",
        "\n",
        "        Based on the predicted response type and crisis flag, provide a suggested response for the counselor to use with the patient. The response should align with the response type ({response_type}) and be sensitive to the crisis level.\n",
        "\n",
        "        For reference, here are similar cases from past conversations:\n",
        "        {retrieved_contexts}\n",
        "\n",
        "        Guidelines:\n",
        "        - If Crisis Flag is True, prioritize safety, empathy, and suggest immediate resources (e.g., National Suicide Prevention Lifeline at 988).\n",
        "        - For 'Empathetic Listening', focus on validating feelings without giving direct advice or questions.\n",
        "        - For 'Advice', provide practical, actionable suggestions.\n",
        "        - For 'Question', pose an open-ended question to encourage further discussion.\n",
        "        - For 'Validation', affirm the patient's efforts or feelings.\n",
        "\n",
        "        Output in the following format:\n",
        "        ```json\n",
        "        {{\n",
        "            \"suggested_response\": \"Your suggested response here\",\n",
        "            \"risk_level\": \"Low/Moderate/High\"\n",
        "        }}\n",
        "        ```\n",
        "        \"\"\"\n",
        "    )\n",
        "\n",
        "    # Create RAG chain\n",
        "    rag_chain = (\n",
        "        {\n",
        "            \"context\": RunnablePassthrough(),\n",
        "            \"response_type\": lambda x: response_type,\n",
        "            \"crisis_flag\": lambda x: \"Crisis\" if crisis_flag else \"No Crisis\",\n",
        "            \"retrieved_contexts\": lambda x: \"\\n\".join(retrieved_contexts)\n",
        "        }\n",
        "        | prompt_template\n",
        "        | llm\n",
        "    )\n",
        "\n",
        "    try:\n",
        "        response = rag_chain.invoke(context)\n",
        "        return eval(response.content.strip(\"```json\\n\").strip(\"\\n```\"))\n",
        "    except Exception as e:\n",
        "        return {\"suggested_response\": f\"Error generating suggestion: {str(e)}\", \"risk_level\": \"Unknown\"}\n",
        "\n",
        "@traceable(run_type=\"chain\", name=\"Direct Suggestion\")\n",
        "def generate_suggestion_direct(context, response_type, crisis_flag):\n",
        "    prompt_template = ChatPromptTemplate.from_template(\n",
        "        \"\"\"\n",
        "        You are an expert mental health counseling assistant. A counselor has provided the following patient situation:\n",
        "\n",
        "        Patient Situation: {context}\n",
        "\n",
        "        Predicted Response Type: {response_type}\n",
        "        Crisis Flag: {crisis_flag}\n",
        "\n",
        "        Provide a suggested response for the counselor to use with the patient, aligned with the response type ({response_type}) and sensitive to the crisis level.\n",
        "\n",
        "        Guidelines:\n",
        "        - If Crisis Flag is True, prioritize safety, empathy, and suggest immediate resources (e.g., National Suicide Prevention Lifeline at 988).\n",
        "        - For 'Empathetic Listening', focus on validating feelings without giving direct advice or asking questions.\n",
        "        - For 'Advice', provide practical, actionable suggestions.\n",
        "        - For 'Question', pose an open-ended question to encourage further discussion.\n",
        "        - For 'Validation', affirm the patient's efforts or feelings.\n",
        "        - Strictly adhere to the response type. For 'Empathetic Listening', do not include questions or advice.\n",
        "\n",
        "        Output in the following format:\n",
        "        ```json\n",
        "        {{\n",
        "            \"suggested_response\": \"Your suggested response here\",\n",
        "            \"risk_level\": \"Low/Moderate/High\"\n",
        "        }}\n",
        "        ```\n",
        "        \"\"\"\n",
        "    )\n",
        "\n",
        "    direct_chain = (\n",
        "        {\n",
        "            \"context\": RunnablePassthrough(),\n",
        "            \"response_type\": lambda x: response_type,\n",
        "            \"crisis_flag\": lambda x: \"Crisis\" if crisis_flag else \"No Crisis\"\n",
        "        }\n",
        "        | prompt_template\n",
        "        | llm\n",
        "    )\n",
        "\n",
        "    try:\n",
        "        response = direct_chain.invoke(context)\n",
        "        return eval(response.content.strip(\"```json\\n\").strip(\"\\n```\"))\n",
        "    except Exception as e:\n",
        "        return {\"suggested_response\": f\"Error generating suggestion: {str(e)}\", \"risk_level\": \"Unknown\"}\n",
        "\n",
        "\n",
        "if __name__ == \"__main__\":\n",
        "    test_cases = [\n",
        "        {\n",
        "            \"context\": \"I’m finding it hard to stay positive, but I’m trying to focus on the good things.\",\n",
        "            \"expected_response_type\": \"Question\",\n",
        "            \"expected_crisis_flag\": False\n",
        "        },\n",
        "        {\n",
        "            \"context\": \"I feel so alone, nobody cares.\",\n",
        "            \"expected_response_type\": \"Empathetic Listening\",\n",
        "            \"expected_crisis_flag\": True\n",
        "        },\n",
        "        {\n",
        "            \"context\": \"How do I deal with my panic attacks?\",\n",
        "            \"expected_response_type\": \"Question\",\n",
        "            \"expected_crisis_flag\": False\n",
        "        },\n",
        "        {\n",
        "            \"context\": \"It’s hard, but I’m trying to stay strong.\",\n",
        "            \"expected_response_type\": \"Validation\",\n",
        "            \"expected_crisis_flag\": False\n",
        "        },\n",
        "        {\n",
        "            \"context\": \"I’m overwhelmed and sometimes feel worthless, but I’m trying to stay positive.\",\n",
        "            \"expected_response_type\": \"Advice\",\n",
        "            \"expected_crisis_flag\": True\n",
        "        }\n",
        "    ]\n",
        "\n",
        "    for i, test in enumerate(test_cases, 1):\n",
        "        context = test[\"context\"]\n",
        "        prediction = predict_response_type(context)\n",
        "        suggestion_rag = generate_suggestion_rag(context, prediction[\"response_type\"], prediction[\"crisis_flag\"])\n",
        "        suggestion_direct = generate_suggestion_direct(context, prediction[\"response_type\"], prediction[\"crisis_flag\"])\n",
        "\n",
        "        print(f\"\\nTest Case {i}:\")\n",
        "        print(f\"Context: {context}\")\n",
        "        print(f\"Predicted Response Type: {prediction['response_type']} (Expected: {test['expected_response_type']})\")\n",
        "        print(f\"Predicted Crisis Flag: {prediction['crisis_flag']} (Expected: {test['expected_crisis_flag']})\")\n",
        "        print(f\"Confidence: {prediction['confidence']:.2f}\")\n",
        "        print(f\"RAG Suggestion: {suggestion_rag['suggested_response']}\")\n",
        "        print(f\"RAG Risk Level: {suggestion_rag['risk_level']}\")\n",
        "        print(f\"Direct Suggestion: {suggestion_direct['suggested_response']}\")\n",
        "        print(f\"Direct Risk Level: {suggestion_direct['risk_level']}\")"
      ],
      "metadata": {
        "colab": {
          "base_uri": "https://localhost:8080/"
        },
        "id": "aQEjF_CfpRzy",
        "outputId": "999106df-c32f-4a4b-f7e5-cfcda8a6a2fe"
      },
      "execution_count": null,
      "outputs": [
        {
          "output_type": "stream",
          "name": "stderr",
          "text": [
            "[nltk_data] Downloading package punkt to /root/nltk_data...\n",
            "[nltk_data]   Package punkt is already up-to-date!\n",
            "[nltk_data] Downloading package wordnet to /root/nltk_data...\n",
            "[nltk_data]   Package wordnet is already up-to-date!\n",
            "[nltk_data] Downloading package stopwords to /root/nltk_data...\n",
            "[nltk_data]   Package stopwords is already up-to-date!\n",
            "/usr/local/lib/python3.11/dist-packages/sklearn/utils/deprecation.py:151: FutureWarning: 'force_all_finite' was renamed to 'ensure_all_finite' in 1.6 and will be removed in 1.8.\n",
            "  warnings.warn(\n",
            "/usr/local/lib/python3.11/dist-packages/sklearn/utils/deprecation.py:151: FutureWarning: 'force_all_finite' was renamed to 'ensure_all_finite' in 1.6 and will be removed in 1.8.\n",
            "  warnings.warn(\n"
          ]
        },
        {
          "output_type": "stream",
          "name": "stdout",
          "text": [
            "\n",
            "Test Case 1:\n",
            "Context: I’m finding it hard to stay positive, but I’m trying to focus on the good things.\n",
            "Predicted Response Type: Question (Expected: Question)\n",
            "Predicted Crisis Flag: False (Expected: False)\n",
            "Confidence: 0.50\n",
            "RAG Suggestion: What specific good things are you trying to focus on, and how do they make you feel?\n",
            "RAG Risk Level: Low\n",
            "Direct Suggestion: What specific good things are you focusing on, and how do they make you feel?\n",
            "Direct Risk Level: Low\n"
          ]
        },
        {
          "output_type": "stream",
          "name": "stderr",
          "text": [
            "/usr/local/lib/python3.11/dist-packages/sklearn/utils/deprecation.py:151: FutureWarning: 'force_all_finite' was renamed to 'ensure_all_finite' in 1.6 and will be removed in 1.8.\n",
            "  warnings.warn(\n",
            "/usr/local/lib/python3.11/dist-packages/sklearn/utils/deprecation.py:151: FutureWarning: 'force_all_finite' was renamed to 'ensure_all_finite' in 1.6 and will be removed in 1.8.\n",
            "  warnings.warn(\n"
          ]
        },
        {
          "output_type": "stream",
          "name": "stdout",
          "text": [
            "\n",
            "Test Case 2:\n",
            "Context: I feel so alone, nobody cares.\n",
            "Predicted Response Type: Empathetic Listening (Expected: Empathetic Listening)\n",
            "Predicted Crisis Flag: True (Expected: True)\n",
            "Confidence: 0.95\n",
            "RAG Suggestion: It sounds incredibly painful to feel so alone, especially when you have people around you who don't seem to understand what you're going through. Your feelings are valid, and it's understandable to feel this way when you sense a lack of connection. I want you to know that you are not alone in how you feel. It's important to talk about these feelings, and if you're in crisis, please reach out to someone who can help, like a trusted friend, family member, or a mental health professional. You deserve support during this difficult time.\n",
            "RAG Risk Level: High\n",
            "Direct Suggestion: I hear you, and it sounds like you're feeling really isolated right now. It's understandable to feel that way when it seems like no one cares. You're not alone in feeling this way, and it's important to talk about it. If you're feeling overwhelmed, I encourage you to reach out to someone who can help. You can contact the National Suicide Prevention Lifeline at 988, where you can talk to someone who understands and can support you.\n",
            "Direct Risk Level: High\n"
          ]
        },
        {
          "output_type": "stream",
          "name": "stderr",
          "text": [
            "/usr/local/lib/python3.11/dist-packages/sklearn/utils/deprecation.py:151: FutureWarning: 'force_all_finite' was renamed to 'ensure_all_finite' in 1.6 and will be removed in 1.8.\n",
            "  warnings.warn(\n",
            "/usr/local/lib/python3.11/dist-packages/sklearn/utils/deprecation.py:151: FutureWarning: 'force_all_finite' was renamed to 'ensure_all_finite' in 1.6 and will be removed in 1.8.\n",
            "  warnings.warn(\n"
          ]
        },
        {
          "output_type": "stream",
          "name": "stdout",
          "text": [
            "\n",
            "Test Case 3:\n",
            "Context: How do I deal with my panic attacks?\n",
            "Predicted Response Type: Question (Expected: Question)\n",
            "Predicted Crisis Flag: False (Expected: False)\n",
            "Confidence: 0.73\n",
            "RAG Suggestion: What situations tend to trigger your panic attacks, and how do you usually feel in those moments?\n",
            "RAG Risk Level: Low\n",
            "Direct Suggestion: Can you describe what you experience during a panic attack and how it makes you feel?\n",
            "Direct Risk Level: Low\n"
          ]
        },
        {
          "output_type": "stream",
          "name": "stderr",
          "text": [
            "/usr/local/lib/python3.11/dist-packages/sklearn/utils/deprecation.py:151: FutureWarning: 'force_all_finite' was renamed to 'ensure_all_finite' in 1.6 and will be removed in 1.8.\n",
            "  warnings.warn(\n",
            "/usr/local/lib/python3.11/dist-packages/sklearn/utils/deprecation.py:151: FutureWarning: 'force_all_finite' was renamed to 'ensure_all_finite' in 1.6 and will be removed in 1.8.\n",
            "  warnings.warn(\n"
          ]
        },
        {
          "output_type": "stream",
          "name": "stdout",
          "text": [
            "\n",
            "Test Case 4:\n",
            "Context: It’s hard, but I’m trying to stay strong.\n",
            "Predicted Response Type: Validation (Expected: Validation)\n",
            "Predicted Crisis Flag: False (Expected: False)\n",
            "Confidence: 0.59\n",
            "RAG Suggestion: It's really commendable that you're making an effort to stay strong despite the challenges you're facing. Acknowledging how hard it is shows resilience, and it's okay to feel the weight of everything you're going through. You're not alone in this, and your feelings are valid.\n",
            "RAG Risk Level: Low\n",
            "Direct Suggestion: It's truly commendable that you're trying to stay strong during this challenging time. Acknowledging how hard it is shows your resilience and determination.\n",
            "Direct Risk Level: Low\n"
          ]
        },
        {
          "output_type": "stream",
          "name": "stderr",
          "text": [
            "/usr/local/lib/python3.11/dist-packages/sklearn/utils/deprecation.py:151: FutureWarning: 'force_all_finite' was renamed to 'ensure_all_finite' in 1.6 and will be removed in 1.8.\n",
            "  warnings.warn(\n",
            "/usr/local/lib/python3.11/dist-packages/sklearn/utils/deprecation.py:151: FutureWarning: 'force_all_finite' was renamed to 'ensure_all_finite' in 1.6 and will be removed in 1.8.\n",
            "  warnings.warn(\n"
          ]
        },
        {
          "output_type": "stream",
          "name": "stdout",
          "text": [
            "\n",
            "Test Case 5:\n",
            "Context: I’m overwhelmed and sometimes feel worthless, but I’m trying to stay positive.\n",
            "Predicted Response Type: Question (Expected: Advice)\n",
            "Predicted Crisis Flag: True (Expected: True)\n",
            "Confidence: 0.54\n",
            "RAG Suggestion: I hear that you're feeling overwhelmed and sometimes worthless, despite your efforts to stay positive. Can you tell me more about what specific situations are making you feel this way right now?\n",
            "RAG Risk Level: High\n",
            "Direct Suggestion: It sounds like you're feeling really overwhelmed right now. Can you tell me more about what's making you feel that way?\n",
            "Direct Risk Level: High\n"
          ]
        }
      ]
    },
    {
      "cell_type": "code",
      "source": [],
      "metadata": {
        "id": "1gXgm6vvrRJM"
      },
      "execution_count": null,
      "outputs": []
    }
  ]
}